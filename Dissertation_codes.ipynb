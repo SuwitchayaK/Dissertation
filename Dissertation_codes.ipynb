{
 "cells": [
  {
   "cell_type": "markdown",
   "id": "333029cf",
   "metadata": {},
   "source": [
    "# Dissertation"
   ]
  },
  {
   "cell_type": "markdown",
   "id": "3d638a1a",
   "metadata": {},
   "source": [
    "Import relevant libraries, download, and prepare data."
   ]
  },
  {
   "cell_type": "code",
   "execution_count": 1,
   "id": "e3b44c3e",
   "metadata": {},
   "outputs": [],
   "source": [
    "#Import relevant libraries\n",
    "import pandas as pd\n",
    "import matplotlib.pyplot as plt\n",
    "import numpy as np\n",
    "from sklearn.preprocessing import StandardScaler\n",
    "from statsmodels.tsa.stattools import adfuller\n",
    "import seaborn as sns\n",
    "import pmdarima as pm\n",
    "from pmdarima import auto_arima\n",
    "from statsmodels.tsa.arima.model import ARIMA\n",
    "import statsmodels.api as sm\n",
    "from statsmodels.tsa.statespace.varmax import VARMAX\n",
    "import warnings\n",
    "warnings.filterwarnings(\"ignore\")"
   ]
  },
  {
   "cell_type": "code",
   "execution_count": 2,
   "id": "d26811dc",
   "metadata": {},
   "outputs": [],
   "source": [
    "data = pd.read_csv('dataset.csv')"
   ]
  },
  {
   "cell_type": "code",
   "execution_count": 3,
   "id": "50a18250",
   "metadata": {},
   "outputs": [],
   "source": [
    "data = data.drop(['Unnamed: 0', 'Unemployment Rate', 'Close_daily'], axis = 1)"
   ]
  },
  {
   "cell_type": "code",
   "execution_count": 4,
   "id": "86b689f5",
   "metadata": {},
   "outputs": [
    {
     "data": {
      "text/html": [
       "<div>\n",
       "<style scoped>\n",
       "    .dataframe tbody tr th:only-of-type {\n",
       "        vertical-align: middle;\n",
       "    }\n",
       "\n",
       "    .dataframe tbody tr th {\n",
       "        vertical-align: top;\n",
       "    }\n",
       "\n",
       "    .dataframe thead th {\n",
       "        text-align: right;\n",
       "    }\n",
       "</style>\n",
       "<table border=\"1\" class=\"dataframe\">\n",
       "  <thead>\n",
       "    <tr style=\"text-align: right;\">\n",
       "      <th></th>\n",
       "      <th>CPI</th>\n",
       "      <th>Close</th>\n",
       "      <th>Exp_Alcoholic_Beverages</th>\n",
       "      <th>GDP_per_capita</th>\n",
       "    </tr>\n",
       "  </thead>\n",
       "  <tbody>\n",
       "    <tr>\n",
       "      <th>count</th>\n",
       "      <td>33.000000</td>\n",
       "      <td>33.000000</td>\n",
       "      <td>33.000000</td>\n",
       "      <td>33.000000</td>\n",
       "    </tr>\n",
       "    <tr>\n",
       "      <th>mean</th>\n",
       "      <td>2.470707</td>\n",
       "      <td>9822.117408</td>\n",
       "      <td>5462.878788</td>\n",
       "      <td>8048.121212</td>\n",
       "    </tr>\n",
       "    <tr>\n",
       "      <th>std</th>\n",
       "      <td>2.785313</td>\n",
       "      <td>11794.097884</td>\n",
       "      <td>801.404890</td>\n",
       "      <td>371.847983</td>\n",
       "    </tr>\n",
       "    <tr>\n",
       "      <th>min</th>\n",
       "      <td>0.000000</td>\n",
       "      <td>157.401499</td>\n",
       "      <td>4432.000000</td>\n",
       "      <td>6437.000000</td>\n",
       "    </tr>\n",
       "    <tr>\n",
       "      <th>25%</th>\n",
       "      <td>0.600000</td>\n",
       "      <td>649.980713</td>\n",
       "      <td>4677.000000</td>\n",
       "      <td>7976.000000</td>\n",
       "    </tr>\n",
       "    <tr>\n",
       "      <th>50%</th>\n",
       "      <td>1.866667</td>\n",
       "      <td>6129.906575</td>\n",
       "      <td>5466.000000</td>\n",
       "      <td>8156.000000</td>\n",
       "    </tr>\n",
       "    <tr>\n",
       "      <th>75%</th>\n",
       "      <td>2.733333</td>\n",
       "      <td>15256.224940</td>\n",
       "      <td>5840.000000</td>\n",
       "      <td>8246.000000</td>\n",
       "    </tr>\n",
       "    <tr>\n",
       "      <th>max</th>\n",
       "      <td>10.766667</td>\n",
       "      <td>40637.153650</td>\n",
       "      <td>7328.000000</td>\n",
       "      <td>8397.000000</td>\n",
       "    </tr>\n",
       "  </tbody>\n",
       "</table>\n",
       "</div>"
      ],
      "text/plain": [
       "             CPI         Close  Exp_Alcoholic_Beverages  GDP_per_capita\n",
       "count  33.000000     33.000000                33.000000       33.000000\n",
       "mean    2.470707   9822.117408              5462.878788     8048.121212\n",
       "std     2.785313  11794.097884               801.404890      371.847983\n",
       "min     0.000000    157.401499              4432.000000     6437.000000\n",
       "25%     0.600000    649.980713              4677.000000     7976.000000\n",
       "50%     1.866667   6129.906575              5466.000000     8156.000000\n",
       "75%     2.733333  15256.224940              5840.000000     8246.000000\n",
       "max    10.766667  40637.153650              7328.000000     8397.000000"
      ]
     },
     "execution_count": 4,
     "metadata": {},
     "output_type": "execute_result"
    }
   ],
   "source": [
    "data.describe()"
   ]
  },
  {
   "cell_type": "code",
   "execution_count": 5,
   "id": "fe90e409",
   "metadata": {},
   "outputs": [
    {
     "data": {
      "text/html": [
       "<div>\n",
       "<style scoped>\n",
       "    .dataframe tbody tr th:only-of-type {\n",
       "        vertical-align: middle;\n",
       "    }\n",
       "\n",
       "    .dataframe tbody tr th {\n",
       "        vertical-align: top;\n",
       "    }\n",
       "\n",
       "    .dataframe thead th {\n",
       "        text-align: right;\n",
       "    }\n",
       "</style>\n",
       "<table border=\"1\" class=\"dataframe\">\n",
       "  <thead>\n",
       "    <tr style=\"text-align: right;\">\n",
       "      <th></th>\n",
       "      <th>CPI</th>\n",
       "      <th>Close</th>\n",
       "      <th>Exp_Alcoholic_Beverages</th>\n",
       "      <th>GDP_per_capita</th>\n",
       "    </tr>\n",
       "  </thead>\n",
       "  <tbody>\n",
       "    <tr>\n",
       "      <th>CPI</th>\n",
       "      <td>1.000000</td>\n",
       "      <td>0.470803</td>\n",
       "      <td>0.214360</td>\n",
       "      <td>0.346855</td>\n",
       "    </tr>\n",
       "    <tr>\n",
       "      <th>Close</th>\n",
       "      <td>0.470803</td>\n",
       "      <td>1.000000</td>\n",
       "      <td>0.640774</td>\n",
       "      <td>-0.028941</td>\n",
       "    </tr>\n",
       "    <tr>\n",
       "      <th>Exp_Alcoholic_Beverages</th>\n",
       "      <td>0.214360</td>\n",
       "      <td>0.640774</td>\n",
       "      <td>1.000000</td>\n",
       "      <td>-0.477600</td>\n",
       "    </tr>\n",
       "    <tr>\n",
       "      <th>GDP_per_capita</th>\n",
       "      <td>0.346855</td>\n",
       "      <td>-0.028941</td>\n",
       "      <td>-0.477600</td>\n",
       "      <td>1.000000</td>\n",
       "    </tr>\n",
       "  </tbody>\n",
       "</table>\n",
       "</div>"
      ],
      "text/plain": [
       "                              CPI     Close  Exp_Alcoholic_Beverages  \\\n",
       "CPI                      1.000000  0.470803                 0.214360   \n",
       "Close                    0.470803  1.000000                 0.640774   \n",
       "Exp_Alcoholic_Beverages  0.214360  0.640774                 1.000000   \n",
       "GDP_per_capita           0.346855 -0.028941                -0.477600   \n",
       "\n",
       "                         GDP_per_capita  \n",
       "CPI                            0.346855  \n",
       "Close                         -0.028941  \n",
       "Exp_Alcoholic_Beverages       -0.477600  \n",
       "GDP_per_capita                 1.000000  "
      ]
     },
     "execution_count": 5,
     "metadata": {},
     "output_type": "execute_result"
    }
   ],
   "source": [
    "data.corr()"
   ]
  },
  {
   "cell_type": "markdown",
   "id": "1330d036",
   "metadata": {},
   "source": [
    "# Part I: Visualizations"
   ]
  },
  {
   "cell_type": "markdown",
   "id": "2f11ab16",
   "metadata": {},
   "source": [
    "# Standardize Data"
   ]
  },
  {
   "cell_type": "markdown",
   "id": "9fcb50f2",
   "metadata": {},
   "source": [
    "The variables have different units, so they will be standardized using StandardScaler to plot on the same axes."
   ]
  },
  {
   "cell_type": "code",
   "execution_count": 6,
   "id": "b666bf3c",
   "metadata": {},
   "outputs": [],
   "source": [
    "#Standardize data as they have different units\n",
    "#Initiate standard scaler\n",
    "scaler = StandardScaler()\n",
    "\n",
    "#Fit transfor data\n",
    "data_scaled = scaler.fit_transform(data.drop('Year', axis=1))\n",
    "\n",
    "#Create DataFrame from scaled data\n",
    "data_scaled = pd.DataFrame(data_scaled, columns=data.columns.drop('Year'))\n",
    "\n",
    "#Add year column back to scaled data\n",
    "data_scaled['Year'] = data['Year']"
   ]
  },
  {
   "cell_type": "code",
   "execution_count": 7,
   "id": "1f8352ba",
   "metadata": {},
   "outputs": [],
   "source": [
    "#Change 'Year' column into datetime format\n",
    "data_scaled['Year'] = pd.to_datetime(data_scaled['Year'])"
   ]
  },
  {
   "cell_type": "markdown",
   "id": "b3a76b97",
   "metadata": {},
   "source": [
    "# 1.1 Plot CPI and Bitcoin Prices"
   ]
  },
  {
   "cell_type": "code",
   "execution_count": 17,
   "id": "b36172be",
   "metadata": {},
   "outputs": [
    {
     "data": {
      "image/png": "[encoded data removed]",
      "text/plain": [
       "<Figure size 432x288 with 1 Axes>"
      ]
     },
     "metadata": {
      "needs_background": "light"
     },
     "output_type": "display_data"
    }
   ],
   "source": [
    "#Plot CPI and Bitcoin Price\n",
    "plt.plot(data_scaled['Year'], data_scaled['CPI'], label='CPI')\n",
    "plt.plot(data_scaled['Year'], data_scaled['Close'], label='Bitcoin Price')\n",
    "\n",
    "#Extract unique years from the 'Year' column\n",
    "unique_years = data_scaled['Year'].dt.year.unique()\n",
    "\n",
    "#Add year 2023 into the plot\n",
    "unique_years = np.append(unique_years, 2023)\n",
    "\n",
    "#Convert unique years to datetime for start of each year\n",
    "unique_years_dt = pd.to_datetime(unique_years, format='%Y')\n",
    "\n",
    "#Set the x-ticks to show only unique years\n",
    "plt.xticks(unique_years_dt, labels=unique_years)\n",
    "\n",
    "#Set y-ticks\n",
    "y_ticks = [-1, 0, 1, 2, 3]\n",
    "plt.yticks(y_ticks)\n",
    "\n",
    "plt.legend()\n",
    "plt.title('Inflation Rate and Bitcoin Price')\n",
    "plt.show()"
   ]
  },
  {
   "cell_type": "markdown",
   "id": "763b381d",
   "metadata": {},
   "source": [
    "# 1.2 Plot Alcohol Expenditure and GDP per capita"
   ]
  },
  {
   "cell_type": "code",
   "execution_count": 18,
   "id": "f1dd7f7c",
   "metadata": {},
   "outputs": [
    {
     "data": {
      "image/png": "[encoded data removed]",
      "text/plain": [
       "<Figure size 432x288 with 1 Axes>"
      ]
     },
     "metadata": {
      "needs_background": "light"
     },
     "output_type": "display_data"
    }
   ],
   "source": [
    "#Plot GDP per capita and Alcohol expenditures\n",
    "plt.plot(data_scaled['Year'], data_scaled['GDP_per_capita'], label='GDP per capita', color='green')\n",
    "plt.plot(data_scaled['Year'], data_scaled['Exp_Alcoholic_Beverages'], label='Alcoholic Beverages', color='purple')\n",
    "\n",
    "#Extract unique years from the 'Year' column\n",
    "unique_years = data_scaled['Year'].dt.year.unique()\n",
    "\n",
    "#Add year 2023 into the plot\n",
    "unique_years = np.append(unique_years, 2023)\n",
    "\n",
    "#Convert unique years to datetime for start of each year\n",
    "unique_years_dt = pd.to_datetime(unique_years, format='%Y')\n",
    "\n",
    "#Set the x-ticks to show only unique years\n",
    "plt.xticks(unique_years_dt, labels=unique_years)\n",
    "\n",
    "plt.legend()\n",
    "plt.title('GDP per capita and Alcohol expenditure')\n",
    "plt.show()"
   ]
  },
  {
   "cell_type": "markdown",
   "id": "fcd26cd8",
   "metadata": {},
   "source": [
    "# Part II: Manipulations for Time-series"
   ]
  },
  {
   "cell_type": "markdown",
   "id": "4c78f73e",
   "metadata": {},
   "source": [
    "# 2.1 ADF Test"
   ]
  },
  {
   "cell_type": "markdown",
   "id": "71a6b772",
   "metadata": {},
   "source": [
    "Conduct ADF unit root test to check stationarity of data."
   ]
  },
  {
   "cell_type": "code",
   "execution_count": 11,
   "id": "cf463366",
   "metadata": {},
   "outputs": [],
   "source": [
    "#Set year as index\n",
    "data['Year'] = pd.to_datetime(data['Year'])\n",
    "data.set_index('Year', inplace=True)"
   ]
  },
  {
   "cell_type": "code",
   "execution_count": 12,
   "id": "0a0a3013",
   "metadata": {},
   "outputs": [],
   "source": [
    "#Define function to get ADF test result\n",
    "def adf_test(data):\n",
    "    result = adfuller(data)\n",
    "    print('ADF Statistic: %f' % result[0])\n",
    "    print('p-value: %f' % result[1])"
   ]
  },
  {
   "cell_type": "code",
   "execution_count": 13,
   "id": "c9bb3356",
   "metadata": {},
   "outputs": [
    {
     "name": "stdout",
     "output_type": "stream",
     "text": [
      "Results for column: CPI\n",
      "ADF Statistic: -2.774217\n",
      "p-value: 0.062052\n",
      "\n",
      "\n",
      "Results for column: Close\n",
      "ADF Statistic: 1.034645\n",
      "p-value: 0.994618\n",
      "\n",
      "\n",
      "Results for column: Exp_Alcoholic_Beverages\n",
      "ADF Statistic: -1.514328\n",
      "p-value: 0.526412\n",
      "\n",
      "\n",
      "Results for column: GDP_per_capita\n",
      "ADF Statistic: -3.178871\n",
      "p-value: 0.021241\n",
      "\n",
      "\n"
     ]
    }
   ],
   "source": [
    "#Get test results for each variable in the dataset\n",
    "for column in data.columns:\n",
    "    print(f\"Results for column: {column}\")\n",
    "    adf_test(data[column])\n",
    "    print(\"\\n\")"
   ]
  },
  {
   "cell_type": "markdown",
   "id": "47d336df",
   "metadata": {},
   "source": [
    "Only GDP per capita that is stationary at 5%, the other variables are non-stationary. I will proceed the data with differencing method to use the data for linear regression model."
   ]
  },
  {
   "cell_type": "markdown",
   "id": "8138ad33",
   "metadata": {},
   "source": [
    "# 2.2 Differencing Data"
   ]
  },
  {
   "cell_type": "code",
   "execution_count": 14,
   "id": "39886972",
   "metadata": {},
   "outputs": [],
   "source": [
    "#Make a copy of the data\n",
    "data_diff = data.copy()"
   ]
  },
  {
   "cell_type": "code",
   "execution_count": 15,
   "id": "f7074248",
   "metadata": {},
   "outputs": [],
   "source": [
    "#Select columns to use differencing\n",
    "columns_diff = ['CPI', 'Close', 'Exp_Alcoholic_Beverages', 'GDP_per_capita']\n",
    "\n",
    "#Create new columns\n",
    "for column in columns_diff:\n",
    "    data_diff[column + '_diff'] = data_diff[column].diff()"
   ]
  },
  {
   "cell_type": "code",
   "execution_count": 16,
   "id": "2573f2a0",
   "metadata": {},
   "outputs": [],
   "source": [
    "#Fill NA row after differencing with backward filling method\n",
    "data_diff = data_diff.bfill()"
   ]
  },
  {
   "cell_type": "code",
   "execution_count": 17,
   "id": "14d7f814",
   "metadata": {},
   "outputs": [
    {
     "name": "stdout",
     "output_type": "stream",
     "text": [
      "Results for column: CPI\n",
      "ADF Statistic: -2.774217\n",
      "p-value: 0.062052\n",
      "\n",
      "\n",
      "Results for column: Close\n",
      "ADF Statistic: 1.034645\n",
      "p-value: 0.994618\n",
      "\n",
      "\n",
      "Results for column: Exp_Alcoholic_Beverages\n",
      "ADF Statistic: -1.514328\n",
      "p-value: 0.526412\n",
      "\n",
      "\n",
      "Results for column: GDP_per_capita\n",
      "ADF Statistic: -3.178871\n",
      "p-value: 0.021241\n",
      "\n",
      "\n",
      "Results for column: CPI_diff\n",
      "ADF Statistic: -1.674943\n",
      "p-value: 0.444067\n",
      "\n",
      "\n",
      "Results for column: Close_diff\n",
      "ADF Statistic: -3.628416\n",
      "p-value: 0.005240\n",
      "\n",
      "\n",
      "Results for column: Exp_Alcoholic_Beverages_diff\n",
      "ADF Statistic: -6.071313\n",
      "p-value: 0.000000\n",
      "\n",
      "\n",
      "Results for column: GDP_per_capita_diff\n",
      "ADF Statistic: -7.409871\n",
      "p-value: 0.000000\n",
      "\n",
      "\n"
     ]
    }
   ],
   "source": [
    "#Get ADF test results for each variable in the dataset\n",
    "for column in data_diff.columns:\n",
    "    print(f\"Results for column: {column}\")\n",
    "    adf_test(data_diff[column])\n",
    "    print(\"\\n\")"
   ]
  },
  {
   "cell_type": "code",
   "execution_count": 27,
   "id": "3bc75b73",
   "metadata": {},
   "outputs": [
    {
     "data": {
      "text/html": [
       "<div>\n",
       "<style scoped>\n",
       "    .dataframe tbody tr th:only-of-type {\n",
       "        vertical-align: middle;\n",
       "    }\n",
       "\n",
       "    .dataframe tbody tr th {\n",
       "        vertical-align: top;\n",
       "    }\n",
       "\n",
       "    .dataframe thead th {\n",
       "        text-align: right;\n",
       "    }\n",
       "</style>\n",
       "<table border=\"1\" class=\"dataframe\">\n",
       "  <thead>\n",
       "    <tr style=\"text-align: right;\">\n",
       "      <th></th>\n",
       "      <th>CPI</th>\n",
       "      <th>Close</th>\n",
       "      <th>Exp_Alcoholic_Beverages</th>\n",
       "      <th>GDP_per_capita</th>\n",
       "      <th>CPI_diff</th>\n",
       "      <th>Close_diff</th>\n",
       "      <th>Exp_Alcoholic_Beverages_diff</th>\n",
       "      <th>GDP_per_capita_diff</th>\n",
       "    </tr>\n",
       "  </thead>\n",
       "  <tbody>\n",
       "    <tr>\n",
       "      <th>CPI</th>\n",
       "      <td>1.000000</td>\n",
       "      <td>0.470803</td>\n",
       "      <td>0.214360</td>\n",
       "      <td>0.346855</td>\n",
       "      <td>0.633406</td>\n",
       "      <td>-0.445912</td>\n",
       "      <td>-0.102355</td>\n",
       "      <td>0.023935</td>\n",
       "    </tr>\n",
       "    <tr>\n",
       "      <th>Close</th>\n",
       "      <td>0.470803</td>\n",
       "      <td>1.000000</td>\n",
       "      <td>0.640774</td>\n",
       "      <td>-0.028941</td>\n",
       "      <td>0.637897</td>\n",
       "      <td>0.176116</td>\n",
       "      <td>-0.297954</td>\n",
       "      <td>0.108240</td>\n",
       "    </tr>\n",
       "    <tr>\n",
       "      <th>Exp_Alcoholic_Beverages</th>\n",
       "      <td>0.214360</td>\n",
       "      <td>0.640774</td>\n",
       "      <td>1.000000</td>\n",
       "      <td>-0.477600</td>\n",
       "      <td>0.163337</td>\n",
       "      <td>0.239591</td>\n",
       "      <td>0.144337</td>\n",
       "      <td>-0.134614</td>\n",
       "    </tr>\n",
       "    <tr>\n",
       "      <th>GDP_per_capita</th>\n",
       "      <td>0.346855</td>\n",
       "      <td>-0.028941</td>\n",
       "      <td>-0.477600</td>\n",
       "      <td>1.000000</td>\n",
       "      <td>0.322255</td>\n",
       "      <td>-0.314413</td>\n",
       "      <td>-0.549273</td>\n",
       "      <td>0.499432</td>\n",
       "    </tr>\n",
       "    <tr>\n",
       "      <th>CPI_diff</th>\n",
       "      <td>0.633406</td>\n",
       "      <td>0.637897</td>\n",
       "      <td>0.163337</td>\n",
       "      <td>0.322255</td>\n",
       "      <td>1.000000</td>\n",
       "      <td>-0.222300</td>\n",
       "      <td>-0.271667</td>\n",
       "      <td>0.268546</td>\n",
       "    </tr>\n",
       "    <tr>\n",
       "      <th>Close_diff</th>\n",
       "      <td>-0.445912</td>\n",
       "      <td>0.176116</td>\n",
       "      <td>0.239591</td>\n",
       "      <td>-0.314413</td>\n",
       "      <td>-0.222300</td>\n",
       "      <td>1.000000</td>\n",
       "      <td>-0.036028</td>\n",
       "      <td>-0.018579</td>\n",
       "    </tr>\n",
       "    <tr>\n",
       "      <th>Exp_Alcoholic_Beverages_diff</th>\n",
       "      <td>-0.102355</td>\n",
       "      <td>-0.297954</td>\n",
       "      <td>0.144337</td>\n",
       "      <td>-0.549273</td>\n",
       "      <td>-0.271667</td>\n",
       "      <td>-0.036028</td>\n",
       "      <td>1.000000</td>\n",
       "      <td>-0.832565</td>\n",
       "    </tr>\n",
       "    <tr>\n",
       "      <th>GDP_per_capita_diff</th>\n",
       "      <td>0.023935</td>\n",
       "      <td>0.108240</td>\n",
       "      <td>-0.134614</td>\n",
       "      <td>0.499432</td>\n",
       "      <td>0.268546</td>\n",
       "      <td>-0.018579</td>\n",
       "      <td>-0.832565</td>\n",
       "      <td>1.000000</td>\n",
       "    </tr>\n",
       "  </tbody>\n",
       "</table>\n",
       "</div>"
      ],
      "text/plain": [
       "                                   CPI     Close  Exp_Alcoholic_Beverages  \\\n",
       "CPI                           1.000000  0.470803                 0.214360   \n",
       "Close                         0.470803  1.000000                 0.640774   \n",
       "Exp_Alcoholic_Beverages       0.214360  0.640774                 1.000000   \n",
       "GDP_per_capita                0.346855 -0.028941                -0.477600   \n",
       "CPI_diff                      0.633406  0.637897                 0.163337   \n",
       "Close_diff                   -0.445912  0.176116                 0.239591   \n",
       "Exp_Alcoholic_Beverages_diff -0.102355 -0.297954                 0.144337   \n",
       "GDP_per_capita_diff           0.023935  0.108240                -0.134614   \n",
       "\n",
       "                              GDP_per_capita  CPI_diff  Close_diff  \\\n",
       "CPI                                 0.346855  0.633406   -0.445912   \n",
       "Close                              -0.028941  0.637897    0.176116   \n",
       "Exp_Alcoholic_Beverages            -0.477600  0.163337    0.239591   \n",
       "GDP_per_capita                      1.000000  0.322255   -0.314413   \n",
       "CPI_diff                            0.322255  1.000000   -0.222300   \n",
       "Close_diff                         -0.314413 -0.222300    1.000000   \n",
       "Exp_Alcoholic_Beverages_diff       -0.549273 -0.271667   -0.036028   \n",
       "GDP_per_capita_diff                 0.499432  0.268546   -0.018579   \n",
       "\n",
       "                              Exp_Alcoholic_Beverages_diff  \\\n",
       "CPI                                              -0.102355   \n",
       "Close                                            -0.297954   \n",
       "Exp_Alcoholic_Beverages                           0.144337   \n",
       "GDP_per_capita                                   -0.549273   \n",
       "CPI_diff                                         -0.271667   \n",
       "Close_diff                                       -0.036028   \n",
       "Exp_Alcoholic_Beverages_diff                      1.000000   \n",
       "GDP_per_capita_diff                              -0.832565   \n",
       "\n",
       "                              GDP_per_capita_diff  \n",
       "CPI                                      0.023935  \n",
       "Close                                    0.108240  \n",
       "Exp_Alcoholic_Beverages                 -0.134614  \n",
       "GDP_per_capita                           0.499432  \n",
       "CPI_diff                                 0.268546  \n",
       "Close_diff                              -0.018579  \n",
       "Exp_Alcoholic_Beverages_diff            -0.832565  \n",
       "GDP_per_capita_diff                      1.000000  "
      ]
     },
     "execution_count": 27,
     "metadata": {},
     "output_type": "execute_result"
    }
   ],
   "source": [
    "data_diff.corr()"
   ]
  },
  {
   "cell_type": "markdown",
   "id": "ff157b95",
   "metadata": {},
   "source": [
    "# Part III: ARIMA"
   ]
  },
  {
   "cell_type": "markdown",
   "id": "69bc4b1c",
   "metadata": {},
   "source": [
    "ARIMA model does not require data to be stationary, so I will use 'data' dataset."
   ]
  },
  {
   "cell_type": "code",
   "execution_count": 19,
   "id": "bc17c19a",
   "metadata": {},
   "outputs": [],
   "source": [
    "#Year index has quarterly data started in December\n",
    "data.index.freq = 'Q-DEC'"
   ]
  },
  {
   "cell_type": "markdown",
   "id": "b4193388",
   "metadata": {},
   "source": [
    "# 3.1 Find Optimal ARIMA Model for CPI and GDP per capita"
   ]
  },
  {
   "cell_type": "markdown",
   "id": "11353e54",
   "metadata": {},
   "source": [
    "The criteria of the optimal model is to minimize AIC. There is no clear sign of seasonality in the line plots, so I set it as no seasonal effect."
   ]
  },
  {
   "cell_type": "code",
   "execution_count": 21,
   "id": "02847dfe",
   "metadata": {},
   "outputs": [
    {
     "name": "stdout",
     "output_type": "stream",
     "text": [
      "Performing stepwise search to minimize aic\n",
      " ARIMA(2,1,2)(0,0,0)[0] intercept   : AIC=inf, Time=0.10 sec\n",
      " ARIMA(0,1,0)(0,0,0)[0] intercept   : AIC=79.782, Time=0.02 sec\n",
      " ARIMA(1,1,0)(0,0,0)[0] intercept   : AIC=70.502, Time=0.01 sec\n",
      " ARIMA(0,1,1)(0,0,0)[0] intercept   : AIC=76.433, Time=0.01 sec\n",
      " ARIMA(0,1,0)(0,0,0)[0]             : AIC=82.283, Time=0.01 sec\n",
      " ARIMA(2,1,0)(0,0,0)[0] intercept   : AIC=65.484, Time=0.02 sec\n",
      " ARIMA(3,1,0)(0,0,0)[0] intercept   : AIC=66.051, Time=0.02 sec\n",
      " ARIMA(2,1,1)(0,0,0)[0] intercept   : AIC=67.087, Time=0.03 sec\n",
      " ARIMA(1,1,1)(0,0,0)[0] intercept   : AIC=69.172, Time=0.03 sec\n",
      " ARIMA(3,1,1)(0,0,0)[0] intercept   : AIC=inf, Time=0.10 sec\n",
      " ARIMA(2,1,0)(0,0,0)[0]             : AIC=63.908, Time=0.02 sec\n",
      " ARIMA(1,1,0)(0,0,0)[0]             : AIC=69.555, Time=0.01 sec\n",
      " ARIMA(3,1,0)(0,0,0)[0]             : AIC=64.506, Time=0.02 sec\n",
      " ARIMA(2,1,1)(0,0,0)[0]             : AIC=65.508, Time=0.03 sec\n",
      " ARIMA(1,1,1)(0,0,0)[0]             : AIC=67.751, Time=0.02 sec\n",
      " ARIMA(3,1,1)(0,0,0)[0]             : AIC=62.419, Time=0.04 sec\n",
      " ARIMA(4,1,1)(0,0,0)[0]             : AIC=62.525, Time=0.04 sec\n",
      " ARIMA(3,1,2)(0,0,0)[0]             : AIC=inf, Time=0.08 sec\n",
      " ARIMA(2,1,2)(0,0,0)[0]             : AIC=inf, Time=0.05 sec\n",
      " ARIMA(4,1,0)(0,0,0)[0]             : AIC=60.702, Time=0.03 sec\n",
      " ARIMA(5,1,0)(0,0,0)[0]             : AIC=62.556, Time=0.04 sec\n",
      " ARIMA(5,1,1)(0,0,0)[0]             : AIC=64.228, Time=0.09 sec\n",
      " ARIMA(4,1,0)(0,0,0)[0] intercept   : AIC=62.030, Time=0.03 sec\n",
      "\n",
      "Best model:  ARIMA(4,1,0)(0,0,0)[0]          \n",
      "Total fit time: 2.269 seconds\n"
     ]
    }
   ],
   "source": [
    "#Use auto_arima to find optimal ARIMA model\n",
    "#m=4 as it is quarterly data\n",
    "arima_cpi = pm.auto_arima(data['CPI'], seasonal=False, m=4, stepwise=True, trace=True)"
   ]
  },
  {
   "cell_type": "code",
   "execution_count": 22,
   "id": "bd6822ca",
   "metadata": {},
   "outputs": [
    {
     "name": "stdout",
     "output_type": "stream",
     "text": [
      "Performing stepwise search to minimize aic\n",
      " ARIMA(2,0,2)(0,0,0)[0]             : AIC=496.382, Time=0.10 sec\n",
      " ARIMA(0,0,0)(0,0,0)[0]             : AIC=689.269, Time=0.00 sec\n",
      " ARIMA(1,0,0)(0,0,0)[0]             : AIC=inf, Time=0.02 sec\n",
      " ARIMA(0,0,1)(0,0,0)[0]             : AIC=inf, Time=0.02 sec\n",
      " ARIMA(1,0,2)(0,0,0)[0]             : AIC=494.501, Time=0.05 sec\n",
      " ARIMA(0,0,2)(0,0,0)[0]             : AIC=inf, Time=0.03 sec\n",
      " ARIMA(1,0,1)(0,0,0)[0]             : AIC=492.833, Time=0.03 sec\n",
      " ARIMA(2,0,1)(0,0,0)[0]             : AIC=inf, Time=0.05 sec\n",
      " ARIMA(2,0,0)(0,0,0)[0]             : AIC=inf, Time=0.03 sec\n",
      " ARIMA(1,0,1)(0,0,0)[0] intercept   : AIC=482.353, Time=0.02 sec\n",
      " ARIMA(0,0,1)(0,0,0)[0] intercept   : AIC=482.053, Time=0.02 sec\n",
      " ARIMA(0,0,0)(0,0,0)[0] intercept   : AIC=487.254, Time=0.01 sec\n",
      " ARIMA(0,0,2)(0,0,0)[0] intercept   : AIC=483.182, Time=0.04 sec\n",
      " ARIMA(1,0,0)(0,0,0)[0] intercept   : AIC=480.213, Time=0.01 sec\n",
      " ARIMA(2,0,0)(0,0,0)[0] intercept   : AIC=482.162, Time=0.01 sec\n",
      " ARIMA(2,0,1)(0,0,0)[0] intercept   : AIC=484.334, Time=0.03 sec\n",
      "\n",
      "Best model:  ARIMA(1,0,0)(0,0,0)[0] intercept\n",
      "Total fit time: 0.463 seconds\n"
     ]
    }
   ],
   "source": [
    "arima_income = pm.auto_arima(data['GDP_per_capita'], seasonal=False, m=4, stepwise=True, trace=True)"
   ]
  },
  {
   "cell_type": "markdown",
   "id": "d5dc8462",
   "metadata": {},
   "source": [
    "# 3.2 Run ARIMA based on optimal models"
   ]
  },
  {
   "cell_type": "code",
   "execution_count": 27,
   "id": "232f575d",
   "metadata": {},
   "outputs": [],
   "source": [
    "#Divide data into train and test sets\n",
    "arima_train = data.iloc[:-6]\n",
    "arima_test = data.iloc[-6:]"
   ]
  },
  {
   "cell_type": "code",
   "execution_count": 33,
   "id": "9a3053aa",
   "metadata": {},
   "outputs": [],
   "source": [
    "#Define function to get MAPE for prediction accuracy\n",
    "def MAPE(y_true, y_pred): \n",
    "    #Convert data to numpy array\n",
    "    #y_true, y_pred = np.array(y_true), np.array(y_pred)\n",
    "    \n",
    "    #Avoid division by zero\n",
    "    #mask = y_true != 0\n",
    "    \n",
    "    return np.mean(np.abs((y_true - y_pred) / y_true)) * 100"
   ]
  },
  {
   "cell_type": "markdown",
   "id": "8137b224",
   "metadata": {},
   "source": [
    "# 3.2.1 ARIMA for CPI"
   ]
  },
  {
   "cell_type": "code",
   "execution_count": 28,
   "id": "f2452b74",
   "metadata": {},
   "outputs": [],
   "source": [
    "#Fit ARIMA model on train set\n",
    "model_cpi = ARIMA(arima_train['CPI'], order=(4,1,0))\n",
    "fit_cpi = model_cpi.fit()"
   ]
  },
  {
   "cell_type": "code",
   "execution_count": 29,
   "id": "b05b7795",
   "metadata": {},
   "outputs": [],
   "source": [
    "#Predict test set\n",
    "start = len(arima_train)\n",
    "end = len(arima_train) + len(arima_test) - 1\n",
    "predictions1 = fit_cpi.predict(start=start, end=end, typ='levels').values"
   ]
  },
  {
   "cell_type": "code",
   "execution_count": 31,
   "id": "62a60b5b",
   "metadata": {},
   "outputs": [],
   "source": [
    "#Extract actual values of test set\n",
    "y_test_cpi = arima_test['CPI'].values"
   ]
  },
  {
   "cell_type": "code",
   "execution_count": 34,
   "id": "81c95663",
   "metadata": {},
   "outputs": [
    {
     "name": "stdout",
     "output_type": "stream",
     "text": [
      "Accuracy based on MAPE:  55.64%\n"
     ]
    }
   ],
   "source": [
    "mape_cpi = MAPE(y_test_cpi, predictions1)\n",
    "accuracy_cpi = 100 - mape_cpi\n",
    "print(f\"Accuracy based on MAPE: {accuracy_cpi: .2f}%\")"
   ]
  },
  {
   "cell_type": "markdown",
   "id": "b0c06b28",
   "metadata": {},
   "source": [
    "# 3.2.2 ARIMA for GDP per capita"
   ]
  },
  {
   "cell_type": "code",
   "execution_count": 36,
   "id": "d37cfa80",
   "metadata": {},
   "outputs": [],
   "source": [
    "#Fit ARIMA model on train set\n",
    "model_income = ARIMA(arima_train['GDP_per_capita'], order=(1,0,0))\n",
    "fit_income = model_income.fit()"
   ]
  },
  {
   "cell_type": "code",
   "execution_count": 37,
   "id": "c892812d",
   "metadata": {},
   "outputs": [],
   "source": [
    "#Predict test set\n",
    "predictions2 = fit_income.predict(start=start, end=end, typ='levels').values"
   ]
  },
  {
   "cell_type": "code",
   "execution_count": 38,
   "id": "3359d3b0",
   "metadata": {},
   "outputs": [],
   "source": [
    "#Extract actual values of test set\n",
    "y_test_income = arima_test['GDP_per_capita'].values"
   ]
  },
  {
   "cell_type": "code",
   "execution_count": 39,
   "id": "1990e0f2",
   "metadata": {},
   "outputs": [
    {
     "name": "stdout",
     "output_type": "stream",
     "text": [
      "Accuracy based on MAPE:  97.62%\n"
     ]
    }
   ],
   "source": [
    "mape_income = MAPE(y_test_income, predictions2)\n",
    "accuracy_income = 100 - mape_income\n",
    "print(f\"Accuracy based on MAPE: {accuracy_income: .2f}%\")"
   ]
  },
  {
   "cell_type": "markdown",
   "id": "797ccb1d",
   "metadata": {},
   "source": [
    "# Part IV: Extract Actual Values of Each Process According To ARIMA Optimal Models"
   ]
  },
  {
   "cell_type": "markdown",
   "id": "a3e42224",
   "metadata": {},
   "source": [
    "# 4.1 Retrieve Values from Autoregressive Process"
   ]
  },
  {
   "cell_type": "markdown",
   "id": "d5780abc",
   "metadata": {},
   "source": [
    "There are only AR process to be retrieved the values. The optimal ARIMA models for CPI and GDP per capita do not have MA process."
   ]
  },
  {
   "cell_type": "code",
   "execution_count": 40,
   "id": "e22dfd06",
   "metadata": {},
   "outputs": [],
   "source": [
    "#Extract AR coefficients\n",
    "ar_coeff_cpi = fit_cpi.arparams\n",
    "ar_coeff_income = fit_income.arparams"
   ]
  },
  {
   "cell_type": "code",
   "execution_count": 41,
   "id": "2c2d98ab",
   "metadata": {},
   "outputs": [],
   "source": [
    "#Define function to get actual values of AR from CPI data\n",
    "def get_ar(series, ar_coeff):\n",
    "    ar_values = pd.Series(index=series.index)\n",
    "    p = len(ar_coeff)\n",
    "    for t in range(p, len(series)):\n",
    "        ar_value = sum([ar_coeff[i] * series.iloc[t - (i + 1)] for i in range(p)])\n",
    "        ar_values.iloc[t] = ar_value\n",
    "    return ar_values"
   ]
  },
  {
   "cell_type": "code",
   "execution_count": 42,
   "id": "bb796657",
   "metadata": {},
   "outputs": [],
   "source": [
    "#Retrieve AR from CPI data\n",
    "ar_cpi = get_ar(data[['CPI']], ar_coeff_cpi)\n",
    "\n",
    "#Convert to DataFrame\n",
    "ar_cpi = pd.DataFrame(ar_cpi)\n",
    "\n",
    "#Change column name\n",
    "ar_cpi = ar_cpi.rename(columns={0: 'CPI_ar'})"
   ]
  },
  {
   "cell_type": "code",
   "execution_count": 43,
   "id": "7b7169c9",
   "metadata": {},
   "outputs": [],
   "source": [
    "#Retrieve AR from GDP per capita data\n",
    "ar_income = get_ar(data[['GDP_per_capita']], ar_coeff_income)\n",
    "\n",
    "#Convert to DataFrame\n",
    "ar_income = pd.DataFrame(ar_income)\n",
    "\n",
    "#Change column name\n",
    "ar_income = ar_income.rename(columns={0: 'Income_ar'})\n",
    "\n",
    "#Join datasets together\n",
    "data_diff = data_diff.join([ar_cpi, ar_income], how='outer')"
   ]
  },
  {
   "cell_type": "markdown",
   "id": "bb345289",
   "metadata": {},
   "source": [
    "Since there are missing values after generating derivatives and AR process, I will use bfill to fill missing values."
   ]
  },
  {
   "cell_type": "code",
   "execution_count": 45,
   "id": "65fe5edb",
   "metadata": {},
   "outputs": [],
   "source": [
    "data_diff = data_diff.bfill()"
   ]
  },
  {
   "cell_type": "markdown",
   "id": "0a0851a5",
   "metadata": {},
   "source": [
    "# 4.2 Pearson Correlations"
   ]
  },
  {
   "cell_type": "code",
   "execution_count": 87,
   "id": "eea60c54",
   "metadata": {},
   "outputs": [],
   "source": [
    "correlation_matrix = data_diff[['CPI', 'Close', 'GDP_per_capita', 'Exp_Alcoholic_Beverages', 'CPI_diff', 'CPI_ar', 'Income_ar']].corr()"
   ]
  },
  {
   "cell_type": "code",
   "execution_count": 92,
   "id": "dc07aec8",
   "metadata": {},
   "outputs": [
    {
     "data": {
      "image/png": "[encoded data removed]",
      "text/plain": [
       "<Figure size 720x576 with 2 Axes>"
      ]
     },
     "metadata": {
      "needs_background": "light"
     },
     "output_type": "display_data"
    }
   ],
   "source": [
    "#Create heatmap\n",
    "plt.figure(figsize=(10, 8))\n",
    "sns.heatmap(correlation_matrix, annot=True, cmap='inferno', vmin=-1, vmax=1)\n",
    "plt.title('Correlation Heatmap')\n",
    "plt.show()"
   ]
  },
  {
   "cell_type": "markdown",
   "id": "a6384e00",
   "metadata": {},
   "source": [
    "# Part V: Linear Regression Models"
   ]
  },
  {
   "cell_type": "markdown",
   "id": "8a96d832",
   "metadata": {},
   "source": [
    "In order to make predictions based on Linear Regression model, I set the first quarter in December and split the data into train and test sets. The test set contains the last 6 quarters of the data."
   ]
  },
  {
   "cell_type": "code",
   "execution_count": 58,
   "id": "3a308292",
   "metadata": {},
   "outputs": [],
   "source": [
    "#Year index has quarterly data started in December\n",
    "data_diff.index.freq = 'Q-DEC'"
   ]
  },
  {
   "cell_type": "code",
   "execution_count": 59,
   "id": "07e96b5d",
   "metadata": {},
   "outputs": [],
   "source": [
    "#Split data into train and test sets\n",
    "train = data_diff.iloc[:-6]\n",
    "test = data_diff.iloc[-6:]"
   ]
  },
  {
   "cell_type": "markdown",
   "id": "b4417bd8",
   "metadata": {},
   "source": [
    "# 5.1.1 Prediction of CPI on Bitcoin Price"
   ]
  },
  {
   "cell_type": "code",
   "execution_count": 60,
   "id": "e4560242",
   "metadata": {},
   "outputs": [],
   "source": [
    "#Filter data for first model\n",
    "x1_train = train[['CPI_diff', 'CPI_ar']]\n",
    "y1_train = train['Close']\n",
    "x1_test = test[['CPI_diff', 'CPI_ar']]\n",
    "y1_test = test['Close']"
   ]
  },
  {
   "cell_type": "code",
   "execution_count": 61,
   "id": "13786410",
   "metadata": {},
   "outputs": [],
   "source": [
    "#Add constant to train data\n",
    "x1_train_const = sm.add_constant(x1_train)\n",
    "\n",
    "#Fit linear regression model\n",
    "model1_pred = sm.OLS(y1_train, x1_train_const).fit()\n",
    "\n",
    "#Add constant to test data\n",
    "x1_test_const = sm.add_constant(x1_test)\n",
    "\n",
    "#Predict test set\n",
    "y1_pred = model1_pred.predict(x1_test_const)"
   ]
  },
  {
   "cell_type": "code",
   "execution_count": 62,
   "id": "e19ab398",
   "metadata": {},
   "outputs": [
    {
     "name": "stdout",
     "output_type": "stream",
     "text": [
      "Accuracy based on MAPE:  27.53%\n"
     ]
    }
   ],
   "source": [
    "mape1 = MAPE(y1_test, y1_pred)\n",
    "accuracy1 = 100 - mape1\n",
    "print(f\"Accuracy based on MAPE: {accuracy1: .2f}%\")"
   ]
  },
  {
   "cell_type": "markdown",
   "id": "6c8b2172",
   "metadata": {},
   "source": [
    "# 5.1.2 Full model"
   ]
  },
  {
   "cell_type": "code",
   "execution_count": 80,
   "id": "6c735405",
   "metadata": {},
   "outputs": [],
   "source": [
    "#Get target and predictor variables from the dataset\n",
    "x1 = data_diff[['CPI_diff', 'CPI_ar']]\n",
    "y1 = data_diff['Close']"
   ]
  },
  {
   "cell_type": "code",
   "execution_count": 81,
   "id": "c3bd254f",
   "metadata": {},
   "outputs": [],
   "source": [
    "#Add constant to a matrix\n",
    "x1 = sm.add_constant(x1)\n",
    "\n",
    "#Fit linear regression model\n",
    "model1 = sm.OLS(y1, x1).fit()"
   ]
  },
  {
   "cell_type": "code",
   "execution_count": 82,
   "id": "7921e518",
   "metadata": {},
   "outputs": [
    {
     "data": {
      "text/html": [
       "<table class=\"simpletable\">\n",
       "<caption>OLS Regression Results</caption>\n",
       "<tr>\n",
       "  <th>Dep. Variable:</th>          <td>Close</td>      <th>  R-squared:         </th> <td>   0.407</td>\n",
       "</tr>\n",
       "<tr>\n",
       "  <th>Model:</th>                   <td>OLS</td>       <th>  Adj. R-squared:    </th> <td>   0.368</td>\n",
       "</tr>\n",
       "<tr>\n",
       "  <th>Method:</th>             <td>Least Squares</td>  <th>  F-statistic:       </th> <td>   10.32</td>\n",
       "</tr>\n",
       "<tr>\n",
       "  <th>Date:</th>             <td>Sat, 19 Aug 2023</td> <th>  Prob (F-statistic):</th> <td>0.000390</td>\n",
       "</tr>\n",
       "<tr>\n",
       "  <th>Time:</th>                 <td>12:32:06</td>     <th>  Log-Likelihood:    </th> <td> -347.07</td>\n",
       "</tr>\n",
       "<tr>\n",
       "  <th>No. Observations:</th>      <td>    33</td>      <th>  AIC:               </th> <td>   700.1</td>\n",
       "</tr>\n",
       "<tr>\n",
       "  <th>Df Residuals:</th>          <td>    30</td>      <th>  BIC:               </th> <td>   704.6</td>\n",
       "</tr>\n",
       "<tr>\n",
       "  <th>Df Model:</th>              <td>     2</td>      <th>                     </th>     <td> </td>   \n",
       "</tr>\n",
       "<tr>\n",
       "  <th>Covariance Type:</th>      <td>nonrobust</td>    <th>                     </th>     <td> </td>   \n",
       "</tr>\n",
       "</table>\n",
       "<table class=\"simpletable\">\n",
       "<tr>\n",
       "      <td></td>        <th>coef</th>     <th>std err</th>      <th>t</th>      <th>P>|t|</th>  <th>[0.025</th>    <th>0.975]</th>  \n",
       "</tr>\n",
       "<tr>\n",
       "  <th>const</th>    <td> 7183.6415</td> <td> 1866.756</td> <td>    3.848</td> <td> 0.001</td> <td> 3371.217</td> <td>  1.1e+04</td>\n",
       "</tr>\n",
       "<tr>\n",
       "  <th>CPI_diff</th> <td> 9003.8940</td> <td> 2425.656</td> <td>    3.712</td> <td> 0.001</td> <td> 4050.043</td> <td>  1.4e+04</td>\n",
       "</tr>\n",
       "<tr>\n",
       "  <th>CPI_ar</th>   <td>  245.7392</td> <td> 1447.545</td> <td>    0.170</td> <td> 0.866</td> <td>-2710.543</td> <td> 3202.021</td>\n",
       "</tr>\n",
       "</table>\n",
       "<table class=\"simpletable\">\n",
       "<tr>\n",
       "  <th>Omnibus:</th>       <td> 5.412</td> <th>  Durbin-Watson:     </th> <td>   0.648</td>\n",
       "</tr>\n",
       "<tr>\n",
       "  <th>Prob(Omnibus):</th> <td> 0.067</td> <th>  Jarque-Bera (JB):  </th> <td>   4.017</td>\n",
       "</tr>\n",
       "<tr>\n",
       "  <th>Skew:</th>          <td> 0.820</td> <th>  Prob(JB):          </th> <td>   0.134</td>\n",
       "</tr>\n",
       "<tr>\n",
       "  <th>Kurtosis:</th>      <td> 3.480</td> <th>  Cond. No.          </th> <td>    2.75</td>\n",
       "</tr>\n",
       "</table><br/><br/>Notes:<br/>[1] Standard Errors assume that the covariance matrix of the errors is correctly specified."
      ],
      "text/plain": [
       "<class 'statsmodels.iolib.summary.Summary'>\n",
       "\"\"\"\n",
       "                            OLS Regression Results                            \n",
       "==============================================================================\n",
       "Dep. Variable:                  Close   R-squared:                       0.407\n",
       "Model:                            OLS   Adj. R-squared:                  0.368\n",
       "Method:                 Least Squares   F-statistic:                     10.32\n",
       "Date:                Sat, 19 Aug 2023   Prob (F-statistic):           0.000390\n",
       "Time:                        12:32:06   Log-Likelihood:                -347.07\n",
       "No. Observations:                  33   AIC:                             700.1\n",
       "Df Residuals:                      30   BIC:                             704.6\n",
       "Df Model:                           2                                         \n",
       "Covariance Type:            nonrobust                                         \n",
       "==============================================================================\n",
       "                 coef    std err          t      P>|t|      [0.025      0.975]\n",
       "------------------------------------------------------------------------------\n",
       "const       7183.6415   1866.756      3.848      0.001    3371.217     1.1e+04\n",
       "CPI_diff    9003.8940   2425.656      3.712      0.001    4050.043     1.4e+04\n",
       "CPI_ar       245.7392   1447.545      0.170      0.866   -2710.543    3202.021\n",
       "==============================================================================\n",
       "Omnibus:                        5.412   Durbin-Watson:                   0.648\n",
       "Prob(Omnibus):                  0.067   Jarque-Bera (JB):                4.017\n",
       "Skew:                           0.820   Prob(JB):                        0.134\n",
       "Kurtosis:                       3.480   Cond. No.                         2.75\n",
       "==============================================================================\n",
       "\n",
       "Notes:\n",
       "[1] Standard Errors assume that the covariance matrix of the errors is correctly specified.\n",
       "\"\"\""
      ]
     },
     "execution_count": 82,
     "metadata": {},
     "output_type": "execute_result"
    }
   ],
   "source": [
    "model1.summary()"
   ]
  },
  {
   "cell_type": "markdown",
   "id": "562e524f",
   "metadata": {},
   "source": [
    "# 5.2.1 Prediction of GDP per capita on Alcohol Expenditure"
   ]
  },
  {
   "cell_type": "code",
   "execution_count": 63,
   "id": "c7fc9074",
   "metadata": {},
   "outputs": [],
   "source": [
    "#Filter data for first model\n",
    "x2_train = train['Income_ar']\n",
    "y2_train = train['Exp_Alcoholic_Beverages']\n",
    "x2_test = test['Income_ar']\n",
    "y2_test = test['Exp_Alcoholic_Beverages']"
   ]
  },
  {
   "cell_type": "code",
   "execution_count": 64,
   "id": "a6eef5eb",
   "metadata": {},
   "outputs": [],
   "source": [
    "#Add constant to train data\n",
    "x2_train_const = sm.add_constant(x2_train)\n",
    "\n",
    "#Fit linear regression model\n",
    "model2_pred = sm.OLS(y2_train, x2_train_const).fit()\n",
    "\n",
    "#Add constant to test data\n",
    "x2_test_const = sm.add_constant(x2_test)\n",
    "\n",
    "#Predict test set\n",
    "y2_pred = model2_pred.predict(x2_test_const)"
   ]
  },
  {
   "cell_type": "code",
   "execution_count": 65,
   "id": "5c175dae",
   "metadata": {},
   "outputs": [
    {
     "name": "stdout",
     "output_type": "stream",
     "text": [
      "Accuracy based on MAPE:  89.08%\n"
     ]
    }
   ],
   "source": [
    "mape2 = MAPE(y2_test, y2_pred)\n",
    "accuracy2 = 100 - mape2\n",
    "print(f\"Accuracy based on MAPE: {accuracy2: .2f}%\")"
   ]
  },
  {
   "cell_type": "markdown",
   "id": "7a846b81",
   "metadata": {},
   "source": [
    "# 5.2.2 Full model"
   ]
  },
  {
   "cell_type": "code",
   "execution_count": 83,
   "id": "217de026",
   "metadata": {},
   "outputs": [],
   "source": [
    "#Get target and predictor variables from the dataset\n",
    "x2 = data_diff['Income_ar']\n",
    "y2 = data_diff['Exp_Alcoholic_Beverages']"
   ]
  },
  {
   "cell_type": "code",
   "execution_count": 84,
   "id": "e4a16dc1",
   "metadata": {},
   "outputs": [],
   "source": [
    "#Add constant to a matrix\n",
    "x2 = sm.add_constant(x2)\n",
    "\n",
    "#Fit linear regression model\n",
    "model2 = sm.OLS(y2, x2).fit()"
   ]
  },
  {
   "cell_type": "code",
   "execution_count": 85,
   "id": "2b149837",
   "metadata": {},
   "outputs": [
    {
     "data": {
      "text/html": [
       "<table class=\"simpletable\">\n",
       "<caption>OLS Regression Results</caption>\n",
       "<tr>\n",
       "  <th>Dep. Variable:</th>    <td>Exp_Alcoholic_Beverages</td> <th>  R-squared:         </th> <td>   0.119</td>\n",
       "</tr>\n",
       "<tr>\n",
       "  <th>Model:</th>                      <td>OLS</td>           <th>  Adj. R-squared:    </th> <td>   0.090</td>\n",
       "</tr>\n",
       "<tr>\n",
       "  <th>Method:</th>                <td>Least Squares</td>      <th>  F-statistic:       </th> <td>   4.183</td>\n",
       "</tr>\n",
       "<tr>\n",
       "  <th>Date:</th>                <td>Sat, 19 Aug 2023</td>     <th>  Prob (F-statistic):</th>  <td>0.0494</td> \n",
       "</tr>\n",
       "<tr>\n",
       "  <th>Time:</th>                    <td>12:34:11</td>         <th>  Log-Likelihood:    </th> <td> -264.88</td>\n",
       "</tr>\n",
       "<tr>\n",
       "  <th>No. Observations:</th>         <td>    33</td>          <th>  AIC:               </th> <td>   533.8</td>\n",
       "</tr>\n",
       "<tr>\n",
       "  <th>Df Residuals:</th>             <td>    31</td>          <th>  BIC:               </th> <td>   536.8</td>\n",
       "</tr>\n",
       "<tr>\n",
       "  <th>Df Model:</th>                 <td>     1</td>          <th>                     </th>     <td> </td>   \n",
       "</tr>\n",
       "<tr>\n",
       "  <th>Covariance Type:</th>         <td>nonrobust</td>        <th>                     </th>     <td> </td>   \n",
       "</tr>\n",
       "</table>\n",
       "<table class=\"simpletable\">\n",
       "<tr>\n",
       "      <td></td>         <th>coef</th>     <th>std err</th>      <th>t</th>      <th>P>|t|</th>  <th>[0.025</th>    <th>0.975]</th>  \n",
       "</tr>\n",
       "<tr>\n",
       "  <th>const</th>     <td> 1.144e+04</td> <td> 2923.676</td> <td>    3.912</td> <td> 0.000</td> <td> 5473.684</td> <td> 1.74e+04</td>\n",
       "</tr>\n",
       "<tr>\n",
       "  <th>Income_ar</th> <td>   -1.6016</td> <td>    0.783</td> <td>   -2.045</td> <td> 0.049</td> <td>   -3.199</td> <td>   -0.005</td>\n",
       "</tr>\n",
       "</table>\n",
       "<table class=\"simpletable\">\n",
       "<tr>\n",
       "  <th>Omnibus:</th>       <td> 0.306</td> <th>  Durbin-Watson:     </th> <td>   0.342</td>\n",
       "</tr>\n",
       "<tr>\n",
       "  <th>Prob(Omnibus):</th> <td> 0.858</td> <th>  Jarque-Bera (JB):  </th> <td>   0.409</td>\n",
       "</tr>\n",
       "<tr>\n",
       "  <th>Skew:</th>          <td> 0.201</td> <th>  Prob(JB):          </th> <td>   0.815</td>\n",
       "</tr>\n",
       "<tr>\n",
       "  <th>Kurtosis:</th>      <td> 2.633</td> <th>  Cond. No.          </th> <td>8.20e+04</td>\n",
       "</tr>\n",
       "</table><br/><br/>Notes:<br/>[1] Standard Errors assume that the covariance matrix of the errors is correctly specified.<br/>[2] The condition number is large, 8.2e+04. This might indicate that there are<br/>strong multicollinearity or other numerical problems."
      ],
      "text/plain": [
       "<class 'statsmodels.iolib.summary.Summary'>\n",
       "\"\"\"\n",
       "                               OLS Regression Results                              \n",
       "===================================================================================\n",
       "Dep. Variable:     Exp_Alcoholic_Beverages   R-squared:                       0.119\n",
       "Model:                                 OLS   Adj. R-squared:                  0.090\n",
       "Method:                      Least Squares   F-statistic:                     4.183\n",
       "Date:                     Sat, 19 Aug 2023   Prob (F-statistic):             0.0494\n",
       "Time:                             12:34:11   Log-Likelihood:                -264.88\n",
       "No. Observations:                       33   AIC:                             533.8\n",
       "Df Residuals:                           31   BIC:                             536.8\n",
       "Df Model:                                1                                         \n",
       "Covariance Type:                 nonrobust                                         \n",
       "==============================================================================\n",
       "                 coef    std err          t      P>|t|      [0.025      0.975]\n",
       "------------------------------------------------------------------------------\n",
       "const       1.144e+04   2923.676      3.912      0.000    5473.684    1.74e+04\n",
       "Income_ar     -1.6016      0.783     -2.045      0.049      -3.199      -0.005\n",
       "==============================================================================\n",
       "Omnibus:                        0.306   Durbin-Watson:                   0.342\n",
       "Prob(Omnibus):                  0.858   Jarque-Bera (JB):                0.409\n",
       "Skew:                           0.201   Prob(JB):                        0.815\n",
       "Kurtosis:                       2.633   Cond. No.                     8.20e+04\n",
       "==============================================================================\n",
       "\n",
       "Notes:\n",
       "[1] Standard Errors assume that the covariance matrix of the errors is correctly specified.\n",
       "[2] The condition number is large, 8.2e+04. This might indicate that there are\n",
       "strong multicollinearity or other numerical problems.\n",
       "\"\"\""
      ]
     },
     "execution_count": 85,
     "metadata": {},
     "output_type": "execute_result"
    }
   ],
   "source": [
    "model2.summary()"
   ]
  }
 ],
 "metadata": {
  "kernelspec": {
   "display_name": "Python 3 (ipykernel)",
   "language": "python",
   "name": "python3"
  },
  "language_info": {
   "codemirror_mode": {
    "name": "ipython",
    "version": 3
   },
   "file_extension": ".py",
   "mimetype": "text/x-python",
   "name": "python",
   "nbconvert_exporter": "python",
   "pygments_lexer": "ipython3",
   "version": "3.9.12"
  }
 },
 "nbformat": 4,
 "nbformat_minor": 5
}
